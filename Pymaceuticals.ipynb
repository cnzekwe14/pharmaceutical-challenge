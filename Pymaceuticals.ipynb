{
 "cells": [
  {
   "cell_type": "code",
   "execution_count": null,
   "id": "bfe886db",
   "metadata": {},
   "outputs": [],
   "source": [
    "#Dependencies\n",
    "import pandas as pd\n",
    "import numpy as np\n",
    "import matplotlib.pyplot as plt\n",
    "import scipy.stats as st\n",
    "from scipy.stats import linregress"
   ]
  },
  {
   "cell_type": "code",
   "execution_count": null,
   "id": "eaee5718",
   "metadata": {},
   "outputs": [],
   "source": [
    "#get the path\n",
    "mouse = (\"Instructions/Pymaceuticals/data/Mouse_metadata.csv\")\n",
    "mouse_df = pd.read_csv(mouse,encoding='utf-8')\n",
    "mouse_df\n",
    "study = (\"Instructions/Pymaceuticals/data/Study_results.csv\")\n",
    "study_df = pd.read_csv(study,encoding='utf-8')\n"
   ]
  },
  {
   "cell_type": "code",
   "execution_count": null,
   "id": "5c4a6022",
   "metadata": {},
   "outputs": [],
   "source": [
    "#merge data\n",
    "merge_df = pd.merge(mouse_df,study_df,on='Mouse ID')\n",
    "\n"
   ]
  },
  {
   "cell_type": "code",
   "execution_count": null,
   "id": "9759c194",
   "metadata": {},
   "outputs": [],
   "source": [
    "# Prepare the Data\n",
    "#get number of mice ID's\n",
    "len(merge_df['Mouse ID'].unique()) \n",
    "\n",
    "#duplicate timepoints\n",
    "duplicate_mouse_ids = merge_df.loc[merge_df.duplicated(subset=['Mouse ID','Timepoint']),'Mouse ID'].unique()# figure this out\n",
    "duplicate_mouse_ids\n",
    "\n",
    "#get new data frame without the mice ID's with duplicate record \n",
    "for x in duplicate_mouse_ids: \n",
    "    new_df =  merge_df.loc[(merge_df['Mouse ID']!= x),:]\n",
    "new_df\n",
    "\n",
    "# updated number of unique mice ID's\n",
    "len(new_df['Mouse ID'].unique()) \n",
    "\n",
    "#clean_study_data_complete = merge_df[merge_df['Mouse ID'].isin(duplicate_mouse_ids)==False]\n",
    "#clean_study_data_complete.head()\n",
    "#clean_study_data_complete.loc[(clean_study_data_complete['Mouse ID']=='g989'),:]\n",
    "\n",
    "\n",
    "# Getting the duplicate mice by ID number that shows up for Mouse ID and Timepoint. \n",
    "#duplicate_mouse_ids = study_data_complete.loc[study_data_complete.duplicated(subset=['Mouse ID', 'Timepoint']),'Mouse ID'].unique()\n",
    "#duplicate_mouse_ids\n"
   ]
  },
  {
   "cell_type": "code",
   "execution_count": null,
   "id": "128c6cef",
   "metadata": {},
   "outputs": [],
   "source": [
    "#Generate Summary Statistics\n",
    "#groupby for tumor volume\n",
    "new_df\n",
    "#mean\n",
    "new_group_df = new_df.groupby([new_df[\"Drug Regimen\"]])\n",
    "new_mean_df = new_group_df['Tumor Volume (mm3)'].mean()\n",
    "new_mean_df\n",
    "\n",
    "#median\n",
    "new_group_df = new_df.groupby([new_df[\"Drug Regimen\"]])\n",
    "new_median_df = new_group_df['Tumor Volume (mm3)'].median()\n",
    "new_median_df\n",
    "\n",
    "\n",
    "#variance\n",
    "new_group_df = new_df.groupby([new_df[\"Drug Regimen\"]])\n",
    "new_variance_df = new_group_df['Tumor Volume (mm3)'].var()\n",
    "new_variance_df\n",
    "\n",
    "\n",
    "\n",
    "#standard deviation\n",
    "new_group_df = new_df.groupby([new_df[\"Drug Regimen\"]])\n",
    "new_standard_df = new_group_df['Tumor Volume (mm3)'].std()\n",
    "new_standard_df\n",
    "\n",
    "\n",
    "#SEM\n",
    "new_group_df = new_df.groupby([new_df[\"Drug Regimen\"]])\n",
    "new_sem_df = new_group_df['Tumor Volume (mm3)'].sem()\n",
    "new_sem_df\n",
    "\n",
    "statistics_df = pd.DataFrame({\"mean tumor volume\":new_mean_df,\"median tumor volume\":new_median_df,\"variance tumor volume\":new_variance_df,\n",
    "                             \"standard deviation tumor volume\":new_standard_df,\"SEM tumor volume\":new_sem_df})\n",
    "statistics_df\n",
    "\n",
    "\n"
   ]
  },
  {
   "cell_type": "code",
   "execution_count": null,
   "id": "d750330d",
   "metadata": {},
   "outputs": [],
   "source": [
    "#Agg method for tumor volume\n",
    "new1_df = new_df.groupby(['Drug Regimen'])\n",
    "statistics1_df = new1_df['Tumor Volume (mm3)'].agg(['mean','median','var','std','sem'])\n",
    "statistics1_df"
   ]
  },
  {
   "cell_type": "code",
   "execution_count": null,
   "id": "6aa06e95",
   "metadata": {},
   "outputs": [],
   "source": [
    "#Create Bar Charts \n",
    "#matplotlib\n",
    "new_df\n",
    "\n",
    "new_points_df = new_df.groupby(['Drug Regimen'])\n",
    "new_time_df = new_points_df.count()\n",
    "new_time_df\n",
    "\n",
    "x_axis = np.arange(len(new_df['Drug Regimen'].unique()))\n",
    "y_axis = new_time_df['Timepoint']\n",
    "\n",
    "plt.figure(figsize=(8,6))\n",
    "\n",
    "plt.bar(x_axis,y_axis,color='b',align='center',alpha=.25)\n",
    "tick_locations = [value for value in x_axis]\n",
    "plt.xticks(tick_locations,new_df['Drug Regimen'].unique(),rotation='vertical')\n",
    "\n",
    "plt.title('Drug Regimen Total Timepoints')\n",
    "plt.xlabel('Drug Regimen')\n",
    "plt.ylabel('Timepoints')\n",
    "plt.show()\n",
    "\n"
   ]
  },
  {
   "cell_type": "code",
   "execution_count": null,
   "id": "75c5f95e",
   "metadata": {},
   "outputs": [],
   "source": [
    "#pandas\n",
    "Chart_2 =new_time_df[\"Timepoint\"]\n",
    "\n",
    "bar_chart = Chart_2.plot(kind='bar',figsize=(8,6))\n",
    "\n"
   ]
  },
  {
   "cell_type": "code",
   "execution_count": null,
   "id": "d6da16df",
   "metadata": {},
   "outputs": [],
   "source": [
    "#Pie Charts\n",
    "#matplotlib\n",
    "male_1 = new_df.loc[(new_df[\"Sex\"]=='Male'),:]\n",
    "male_2 = len(male_1[\"Mouse ID\"].unique())\n",
    "male_2\n",
    "\n",
    "female_1 = new_df.loc[(new_df[\"Sex\"]=='Female'),:]\n",
    "female_2 = len(female_1[\"Mouse ID\"].unique())\n",
    "female_2\n",
    "total_2 = ({\"Male\":male_2,\"Female\": female_2})\n",
    "total_3 = pd.Series(total_2)\n",
    "total_3\n",
    "plt.figure(figsize=(8,8))\n",
    "y3_axis = total_3\n",
    "y3_axis\n",
    "\n",
    "labels = total_3.keys()\n",
    "labels\n",
    "explode=(.1,0,)\n",
    "\n",
    "plt.pie(y3_axis,explode = explode,labels = labels,autopct=\"%1.1f%%\",shadow=True,startangle=45)\n",
    "plt.title(\"Mouse Gender\")\n"
   ]
  },
  {
   "cell_type": "code",
   "execution_count": null,
   "id": "6c850c11",
   "metadata": {
    "scrolled": true
   },
   "outputs": [],
   "source": [
    "#pandas\n",
    "\n",
    "total_3.plot(kind='pie',explode =(.1,0),y='total_3',autopct=\"%1.1f%%\",title = 'Mouse Gender',figsize=(6,10),label=\"\").legend(bbox_to_anchor=(1.5,1))\n"
   ]
  },
  {
   "cell_type": "code",
   "execution_count": null,
   "id": "a4a829ce",
   "metadata": {
    "scrolled": true
   },
   "outputs": [],
   "source": [
    "#Calculate Quartiles, Find Outliers and Create a Box Plot\n",
    "#calculate final tumor\n",
    "new_df\n",
    "\n",
    "#get the latest timepoint for each mouse\n",
    "top_four_df = new_df.groupby(['Mouse ID'])\n",
    "tfd = top_four_df[\"Timepoint\"].max()\n",
    "tf =tfd.reset_index()\n",
    "tf\n",
    "\n",
    "#merge latest timepont with cleaned data\n",
    "cleaned_merge = pd.merge(new_df,tf,how='inner',on=[\"Mouse ID\",'Timepoint'])\n",
    "cleaned_merge\n",
    "\n",
    "drug_four = cleaned_merge.loc[(cleaned_merge[\"Drug Regimen\"]=='Capomulin')|(cleaned_merge[\"Drug Regimen\"]=='Ramicane')|\n",
    "                            (cleaned_merge[\"Drug Regimen\"]=='Infubinol')|(cleaned_merge[\"Drug Regimen\"]=='Ceftamin'),:]\n",
    "\n",
    "#put the four drugs in a list\n",
    "drug_5 = list(drug_four[\"Drug Regimen\"].unique())\n",
    "drug_5\n",
    "\n",
    "\n",
    "volume_1 =[]\n",
    "for dr in drug_5:\n",
    " \n",
    "    volume_1.append(drug_four.loc[drug_four[\"Drug Regimen\"] == dr,\"Tumor Volume (mm3)\"])\n",
    "\n",
    "volume_1\n",
    "\n",
    "\n",
    "\n",
    "#get lower and upper quantiles from the volume_1 list and see what the outliers could be\n",
    "quartiles_lower = np.quantile(volume_1,.25)\n",
    "quartiles_upper = np.quantile(volume_1,.75)\n",
    "quartiles_lower\n",
    "quartiles_upper\n",
    "\n",
    "print(f'Values below {round(quartiles_lower,2)} could be outliers.')\n",
    "print(f'Values below {round(quartiles_upper,2)} could be outliers.')\n"
   ]
  },
  {
   "cell_type": "code",
   "execution_count": null,
   "id": "2b99b46c",
   "metadata": {
    "scrolled": true
   },
   "outputs": [],
   "source": [
    "#Matplotlib\n",
    "#box plot for the four final tumors\n",
    "fig1,ax1 = plt.subplots()\n",
    "color_scale = dict(marker = 'o',markerfacecolor ='r',markersize =12,\n",
    "                  markeredgecolor='r')\n",
    "ax1.boxplot(volume_1,flierprops=color_scale)\n",
    "plt.show()"
   ]
  },
  {
   "cell_type": "code",
   "execution_count": null,
   "id": "d9d3a248",
   "metadata": {},
   "outputs": [],
   "source": [
    "# Line Plot \n",
    "#select mice y793\n",
    "mouse_y = new_df.loc[new_df['Mouse ID']=='y793',:]\n",
    "mouse_y\n",
    "\n",
    "my = mouse_y[\"Tumor Volume (mm3)\"]\n",
    "mx = np.arange(len(mouse_y[\"Timepoint\"]))\n",
    "\n",
    "plt.plot(mx,my)\n",
    "tick_locations1 = [w for w in mx]\n",
    "plt.xticks(tick_locations1,mouse_y[\"Timepoint\"])\n",
    "plt.title(\"y793 Tumor Analysis\")\n",
    "plt.xlabel(\"Timepoint\")\n",
    "plt.ylabel(\"Tumor Volume\")\n",
    "plt.show()"
   ]
  },
  {
   "cell_type": "code",
   "execution_count": null,
   "id": "1e588bf5",
   "metadata": {},
   "outputs": [],
   "source": [
    "#Scatter plot\n",
    "#scattor plot for the Capomulin treatment\n",
    "capo_df = new_df.loc[(new_df['Drug Regimen']=='Capomulin'),:]\n",
    "capo_df\n",
    "\n",
    "capo_x1 = capo_df['Weight (g)']\n",
    "capo_x1\n",
    "\n",
    "capo_y = capo_df[\"Tumor Volume (mm3)\"]\n",
    "capo_y\n",
    "(slope,intercept,rvalue,pvalue,stderr)= linregress(capo_x1,capo_y)\n",
    "regress_values = capo_x1*slope + intercept\n",
    "line_eq = 'y = ' + str(round(slope,2)) + 'x + ' + str(round(intercept,2))\n",
    "plt.scatter(capo_x1,capo_y,marker='o',s=capo_y,facecolors='magenta',edgecolors='black')\n",
    "plt.plot(capo_x1,regress_values,'r-')\n",
    "plt.annotate(line_eq,(20,33),fontsize=12,color='blue')\n",
    "plt.title(\"Capomulin Weight\")\n",
    "plt.xlabel(\"Weight\")\n",
    "plt.ylabel(\"Tumor Volume\")\n",
    "plt.show()"
   ]
  },
  {
   "cell_type": "code",
   "execution_count": null,
   "id": "5b9e4749",
   "metadata": {},
   "outputs": [],
   "source": [
    "#Calculate Correlation and Regression\n",
    "weight = capo_df.iloc[:,4]\n",
    "tv = capo_df.iloc[:,6]\n",
    "correlation = st.pearsonr(weight,tv)\n",
    "print(f'The correlation between both factors is {round(correlation[0],2)}')\n"
   ]
  }
 ],
 "metadata": {
  "kernelspec": {
   "display_name": "Python 3 (ipykernel)",
   "language": "python",
   "name": "python3"
  },
  "language_info": {
   "codemirror_mode": {
    "name": "ipython",
    "version": 3
   },
   "file_extension": ".py",
   "mimetype": "text/x-python",
   "name": "python",
   "nbconvert_exporter": "python",
   "pygments_lexer": "ipython3",
   "version": "3.9.12"
  }
 },
 "nbformat": 4,
 "nbformat_minor": 5
}
